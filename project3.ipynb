{
 "cells": [
  {
   "cell_type": "code",
   "execution_count": 1,
   "id": "57d463e6",
   "metadata": {},
   "outputs": [
    {
     "name": "stdout",
     "output_type": "stream",
     "text": [
      "Введите количество счетов компании: 4\n",
      "Введите количество сотрудников компании: 5\n",
      "Вводите суммы\n",
      "670\n",
      "\n"
     ]
    },
    {
     "ename": "ValueError",
     "evalue": "invalid literal for int() with base 10: ''",
     "output_type": "error",
     "traceback": [
      "\u001b[1;31m---------------------------------------------------------------------------\u001b[0m",
      "\u001b[1;31mValueError\u001b[0m                                Traceback (most recent call last)",
      "\u001b[1;32m~\\AppData\\Local\\Temp/ipykernel_5680/711836768.py\u001b[0m in \u001b[0;36m<module>\u001b[1;34m\u001b[0m\n\u001b[0;32m      5\u001b[0m \u001b[0mfond_sum\u001b[0m \u001b[1;33m=\u001b[0m \u001b[1;36m0\u001b[0m\u001b[1;33m\u001b[0m\u001b[1;33m\u001b[0m\u001b[0m\n\u001b[0;32m      6\u001b[0m \u001b[1;32mfor\u001b[0m \u001b[0mi\u001b[0m \u001b[1;32min\u001b[0m \u001b[0mrange\u001b[0m\u001b[1;33m(\u001b[0m\u001b[0mN\u001b[0m\u001b[1;33m)\u001b[0m\u001b[1;33m:\u001b[0m\u001b[1;33m\u001b[0m\u001b[1;33m\u001b[0m\u001b[0m\n\u001b[1;32m----> 7\u001b[1;33m     \u001b[0muser_sum\u001b[0m \u001b[1;33m=\u001b[0m \u001b[0mint\u001b[0m\u001b[1;33m(\u001b[0m\u001b[0minput\u001b[0m\u001b[1;33m(\u001b[0m\u001b[1;33m)\u001b[0m\u001b[1;33m)\u001b[0m\u001b[1;33m\u001b[0m\u001b[1;33m\u001b[0m\u001b[0m\n\u001b[0m\u001b[0;32m      8\u001b[0m     \u001b[0mfond_all\u001b[0m\u001b[1;33m.\u001b[0m\u001b[0mappend\u001b[0m\u001b[1;33m(\u001b[0m\u001b[0muser_sum\u001b[0m\u001b[1;33m)\u001b[0m\u001b[1;33m\u001b[0m\u001b[1;33m\u001b[0m\u001b[0m\n\u001b[0;32m      9\u001b[0m     \u001b[0mfond_sum\u001b[0m \u001b[1;33m+=\u001b[0m \u001b[0muser_sum\u001b[0m\u001b[1;33m\u001b[0m\u001b[1;33m\u001b[0m\u001b[0m\n",
      "\u001b[1;31mValueError\u001b[0m: invalid literal for int() with base 10: ''"
     ]
    }
   ],
   "source": [
    "N = int(input(\"Введите количество счетов компании: \"))\n",
    "M = int(input(\"Введите количество сотрудников компании: \"))\n",
    "print(\"Вводите суммы\")\n",
    "fond_all = []\n",
    "fond_sum = 0\n",
    "for i in range(N):\n",
    "    user_sum = int(input())\n",
    "    fond_all.append(user_sum)\n",
    "    fond_sum += user_sum\n",
    "try:\n",
    "    if fond_sum < M:\n",
    "        print(0)\n",
    "    elif fond_sum // M == 1:\n",
    "        print(1)\n",
    "    else:\n",
    "        grant_found = 0\n",
    "        max_grant = fond_sum // M\n",
    "\n",
    "        while True:\n",
    "            check = 0\n",
    "            for i in fond_all:\n",
    "                check += i // max_grant\n",
    "            if check >= M:\n",
    "                grant_found = 1\n",
    "                max_grant += 1\n",
    "\n",
    "            else:\n",
    "                if not grant_found:\n",
    "                    max_grant -= 1\n",
    "                else:\n",
    "                    print(max_grant - 1)\n",
    "                    break\n",
    "\n",
    "except ZeroDivisionError:\n",
    "    print(\"Вы ввели количество сотрудников, равное 0.\")"
   ]
  },
  {
   "cell_type": "code",
   "execution_count": null,
   "id": "e7bca06e",
   "metadata": {},
   "outputs": [],
   "source": []
  }
 ],
 "metadata": {
  "kernelspec": {
   "display_name": "Python 3 (ipykernel)",
   "language": "python",
   "name": "python3"
  },
  "language_info": {
   "codemirror_mode": {
    "name": "ipython",
    "version": 3
   },
   "file_extension": ".py",
   "mimetype": "text/x-python",
   "name": "python",
   "nbconvert_exporter": "python",
   "pygments_lexer": "ipython3",
   "version": "3.9.7"
  }
 },
 "nbformat": 4,
 "nbformat_minor": 5
}
